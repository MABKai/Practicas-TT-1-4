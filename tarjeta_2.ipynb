{
  "nbformat": 4,
  "nbformat_minor": 0,
  "metadata": {
    "colab": {
      "provenance": []
    },
    "kernelspec": {
      "name": "python3",
      "display_name": "Python 3"
    },
    "language_info": {
      "name": "python"
    }
  },
  "cells": [
    {
      "cell_type": "code",
      "execution_count": 12,
      "metadata": {
        "colab": {
          "base_uri": "https://localhost:8080/"
        },
        "id": "0mSSIjoLsD6-",
        "outputId": "f6b2e2ba-fbb9-4a79-88a2-7dff52c71ceb"
      },
      "outputs": [
        {
          "output_type": "stream",
          "name": "stdout",
          "text": [
            "Hola, te solicitaré tus datos, empezamos \n",
            "Introduce tu nombre holh\n",
            "Ahora introduce tu apellido khjlkj\n",
            "Cual es tu edad?)khl\n",
            "Y finalmente, tu correo electronico khjklj\n",
            "Gracias !\n",
            "Datos Introducidos\n",
            " Nombre:\tholh   Apellido:\tkhjlkj\n",
            " Edad:\tkhl\n",
            " E-Mail:\tkhjklj\n"
          ]
        }
      ],
      "source": [
        "nombre=input(\"Hola, te solicitaré tus datos, empezamos \\nIntroduce tu nombre \")\n",
        "apellido=input(\"Ahora introduce tu apellido \")\n",
        "edad=input(\"Cual es tu edad?)\")\n",
        "email=input(\"Y finalmente, tu correo electronico \")\n",
        "print(\"Gracias !\", end='\\n')\n",
        "print(\"Datos Introducidos\\n Nombre:\\t\"+nombre+\"   \"+\"Apellido:\\t\"+apellido+\"\\n Edad:\\t\"+edad+\"\\n E-Mail:\\t\"+email, end='\\n')\n",
        ""
      ]
    },
    {
      "cell_type": "code",
      "source": [
        "#ejercicio 1 clase 03\n",
        "\n",
        "nombre=input(\"Hola, te solicitaré tus datos, empezamos \\nIntroduce tu nombre \")\n",
        "if len(nombre)==0: #valido el ingreso de caracteres\n",
        "  print(\"ERROR. No ha ingresado su nombre.\")\n",
        "apellido=input(\"Ahora introduce tu apellido \")# ingreso y guardo  caracteres\n",
        "if len(apellido)==0: #valido esta vex el ingreso de caracteres en apellido\n",
        "  print(\"ERROR. No ha ingrsaso su apellido\")\n",
        "edad=input(\"Cual es tu edad?\")\n",
        "if int(edad )<=0: #compruebo una edad valida\n",
        "  edad=input(\"ERROR. No ha ingresado una edad valida.\")\n",
        "else:\n",
        "  if int(edad) < 18 and int(edad) >0:#valido que sea mayor de edad\n",
        "    print(\"Es menor de edad\")\n",
        "email=input(\"Y finalmente, tu correo electronico \")\n",
        "if len(email)==0:#valido que se haya ingresado caracteres en email\n",
        "        print(\"ERROR.No ha ingresado un e-mail valido\")\n",
        "print(\"Gracias!\", end='\\n')\n",
        "#muestro los datos ingreados\n",
        "print(\"Datos Introducidos\\n Nombre:\\t\"+nombre+\"   \"+\"Apellido:\\t\"+apellido+\"\\n Edad:\\t\"+edad+\"\\n E-Mail:\\t\"+email, end='\\n')"
      ],
      "metadata": {
        "colab": {
          "base_uri": "https://localhost:8080/"
        },
        "id": "hWMp78pZXt3L",
        "outputId": "ebb55414-eeae-4135-bfb5-5e9e83644d39"
      },
      "execution_count": 30,
      "outputs": [
        {
          "output_type": "stream",
          "name": "stdout",
          "text": [
            "Hola, te solicitaré tus datos, empezamos \n",
            "Introduce tu nombre \n",
            "ERROR. No ha ingresado su nombre.\n",
            "Ahora introduce tu apellido hj\n",
            "Cual es tu edad?7\n",
            "Es menor de edad\n",
            "Y finalmente, tu correo electronico vhj\n",
            "Gracias!\n",
            "Datos Introducidos\n",
            " Nombre:\t   Apellido:\thj\n",
            " Edad:\t7\n",
            " E-Mail:\tvhj\n"
          ]
        }
      ]
    },
    {
      "cell_type": "markdown",
      "source": [],
      "metadata": {
        "id": "9U9gNv5q5bsj"
      }
    }
  ]
}