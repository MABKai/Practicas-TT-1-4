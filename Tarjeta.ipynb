{
  "nbformat": 4,
  "nbformat_minor": 0,
  "metadata": {
    "colab": {
      "provenance": []
    },
    "kernelspec": {
      "name": "python3",
      "display_name": "Python 3"
    },
    "language_info": {
      "name": "python"
    }
  },
  "cells": [
    {
      "cell_type": "code",
      "execution_count": 4,
      "metadata": {
        "colab": {
          "base_uri": "https://localhost:8080/"
        },
        "id": "zwIYQWkzk3Tp",
        "outputId": "60f03476-b672-491f-e183-30db48313652"
      },
      "outputs": [
        {
          "output_type": "stream",
          "name": "stdout",
          "text": [
            "Hola, te solicitaré tus datos, empezamos \n",
            " Introduce tu nombre mnnnmnm\n",
            "Ahora introduce tu apellido hghg\n",
            "Cual es tu edad?)34\n",
            "Y finalmente, tu correo electronico nbmnbj\n",
            "Gracias !\n",
            "Datos Introducidos\n",
            "Nombre: mnnnmnm Apellido: hghg\n",
            "Edad: 34\n",
            "E-Mail: nbmnbj\n"
          ]
        }
      ],
      "source": [
        "\n",
        "nombre=input(\"Hola, te solicitaré tus datos, empezamos \\n Introduce tu nombre \")\n",
        "apellido=input(\"Ahora introduce tu apellido \")\n",
        "edad=input(\"Cual es tu edad?)\")\n",
        "email=input(\"Y finalmente, tu correo electronico \")\n",
        "print(\"Gracias !\")\n",
        "print(\"Datos Introducidos\")\n",
        "print(\"Nombre: \" + nombre +\" \"+\"Apellido: \" + apellido)\n",
        "print(\"Edad: \" + edad)\n",
        "print(\"E-Mail: \" + email)"
      ]
    },
    {
      "cell_type": "code",
      "source": [],
      "metadata": {
        "id": "M4lKSc27k9PH"
      },
      "execution_count": null,
      "outputs": []
    }
  ]
}