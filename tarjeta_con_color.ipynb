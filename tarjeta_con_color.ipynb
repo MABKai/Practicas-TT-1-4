{
  "nbformat": 4,
  "nbformat_minor": 0,
  "metadata": {
    "colab": {
      "provenance": []
    },
    "kernelspec": {
      "name": "python3",
      "display_name": "Python 3"
    },
    "language_info": {
      "name": "python"
    }
  },
  "cells": [
    {
      "cell_type": "code",
      "execution_count": 16,
      "metadata": {
        "colab": {
          "base_uri": "https://localhost:8080/"
        },
        "id": "XM1EuBcOM0k1",
        "outputId": "d10d264c-4271-475b-b327-a372a7d6e861"
      },
      "outputs": [
        {
          "output_type": "stream",
          "name": "stdout",
          "text": [
            "Nombre: ds\n",
            "Apellido: dsd\n",
            "Email: vd\n",
            "Edad: ere\n",
            "\u001b[1;34m*********************************\u001b[0m\n",
            "\u001b[1;34m|\u001b[0m \u001b[0;31mNombre: ds             \u001b[0m \t\u001b[1;34m|\u001b[0m\n",
            "\u001b[1;34m|\u001b[0m \u001b[1;31mApellido: dsd            \u001b[0m \t\u001b[1;34m|\u001b[0m\n",
            "\u001b[1;34m|\u001b[0m \u001b[0;32mEmail: vd             \u001b[0m \t\u001b[1;34m|\u001b[0m\n",
            "\u001b[1;34m|\u001b[0m \u001b[0;32mEdad: ere            \u001b[0m \t\u001b[1;34m|\u001b[0m\n",
            "\u001b[1;34m***********************¡*********\u001b[0m\n"
          ]
        }
      ],
      "source": [
        "# Ingreso de los datos\n",
        "nombre = input(\"Nombre: \")\n",
        "apellido = input(\"Apellido: \")\n",
        "email = input(\"Email: \")\n",
        "edad = input(\"Edad: \")\n",
        "# Colores para borde y texto\n",
        "COLOR_MARCO = '\\033[1;34m' # Azul en negrita\n",
        "COLOR_TEXTO_NOMBRE = '\\033[0;31m' # Nombre en rojo\n",
        "COLOR_TEXTO_APELLIDO = '\\033[1;31m' # Apellido en rojo negrita\n",
        "COLOR_TEXTO_OTRO = '\\033[0;32m' # Otros en verde\n",
        "RESET_COLOR = '\\033[0m' # Para volver al color normal\n",
        "# tarjeta\n",
        "print(f\"{COLOR_MARCO}*********************************{RESET_COLOR}\") # Borde superior\n",
        "print(f\"{COLOR_MARCO}|{RESET_COLOR} {COLOR_TEXTO_NOMBRE}Nombre: {nombre:<15}{RESET_COLOR} \\t{COLOR_MARCO}|{RESET_COLOR}\") # Nombre\n",
        "print(f\"{COLOR_MARCO}|{RESET_COLOR} {COLOR_TEXTO_APELLIDO}Apellido: {apellido:<15}{RESET_COLOR} \\t{COLOR_MARCO}|{RESET_COLOR}\") # Apellido\n",
        "print(f\"{COLOR_MARCO}|{RESET_COLOR} {COLOR_TEXTO_OTRO}Email: {email:<15}{RESET_COLOR} \\t{COLOR_MARCO}|{RESET_COLOR}\") # Email\n",
        "print(f\"{COLOR_MARCO}|{RESET_COLOR} {COLOR_TEXTO_OTRO}Edad: {edad:<15}{RESET_COLOR} \\t{COLOR_MARCO}|{RESET_COLOR}\") # Edad\n",
        "print(f\"{COLOR_MARCO}*********************************{RESET_COLOR}\") # Borde inferior"
      ]
    }
  ]
}