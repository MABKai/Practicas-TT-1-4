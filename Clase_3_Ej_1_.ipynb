{
  "nbformat": 4,
  "nbformat_minor": 0,
  "metadata": {
    "colab": {
      "provenance": []
    },
    "kernelspec": {
      "name": "python3",
      "display_name": "Python 3"
    },
    "language_info": {
      "name": "python"
    }
  },
  "cells": [
    {
      "cell_type": "code",
      "execution_count": null,
      "metadata": {
        "id": "hvLaxT-bbHJp"
      },
      "outputs": [],
      "source": [
        "#ejercicio 1 clase 03\n",
        "\n",
        "nombre=input(\"Hola, te solicitaré tus datos, empezamos \\nIntroduce tu nombre \")\n",
        "if len(nombre)==0: #valido el ingreso de caracteres\n",
        "  print(\"ERROR. No ha ingresado su nombre.\")\n",
        "apellido=input(\"Ahora introduce tu apellido \")# ingreso y guardo  caracteres\n",
        "if len(apellido)==0: #valido esta vex el ingreso de caracteres en apellido\n",
        "  print(\"ERROR. No ha ingrsaso su apellido\")\n",
        "edad=input(\"Cual es tu edad?\")\n",
        "if int(edad )<=0: #compruebo una edad valida\n",
        "  edad=input(\"ERROR. No ha ingresado una edad valida.\")\n",
        "else:\n",
        "  if int(edad) < 18 and int(edad) >0:#valido que sea mayor de edad\n",
        "    print(\"Es menor de edad\")\n",
        "email=input(\"Y finalmente, tu correo electronico \")\n",
        "if len(email)==0:#valido que se haya ingresado caracteres en email\n",
        "        print(\"ERROR.No ha ingresado un e-mail valido\")\n",
        "print(\"Gracias!\", end='\\n')\n",
        "#muestro los datos ingreados\n",
        "print(\"Datos Introducidos\\n Nombre:\\t\"+nombre+\"   \"+\"Apellido:\\t\"+apellido+\"\\n Edad:\\t\"+edad+\"\\n E-Mail:\\t\"+email, end='\\n')"
      ]
    },
    {
      "cell_type": "code",
      "source": [
        "nombre=input(\"Hola, te solicitaré tus datos, empezamos \\nIntroduce tu nombre \")\n",
        "if (nombre)==\"\": #valido el ingreso de caracteres\n",
        "  print(\"ERROR. No ha ingresado su nombre.\")\n",
        "apellido=input(\"Ahora introduce tu apellido \")# ingreso y guardo  caracteres\n",
        "if (apellido)==\"\": #valido esta vex el ingreso de caracteres en apellido\n",
        "  print(\"ERROR. No ha ingrsaso su apellido\")\n",
        "edad=input(\"Cual es tu edad?\")\n",
        "if int(edad )<=0: #compruebo una edad valida\n",
        "  edad=input(\"ERROR. No ha ingresado una edad valida.\")\n",
        "else:\n",
        "  if int(edad) < 18 and int(edad) >0:#valido que sea mayor de edad\n",
        "    print(\"Es menor de edad\")\n",
        "email=input(\"Y finalmente, tu correo electronico \")\n",
        "if (email)==\"\":#valido que se haya ingresado caracteres en email\n",
        "        print(\"ERROR.No ha ingresado un e-mail valido\")\n",
        "print(\"Gracias!\", end='\\n')\n",
        "#muestro los datos ingreados\n",
        "print(\"Datos Introducidos\\n Nombre:\\t\"+nombre+\"   \"+\"Apellido:\\t\"+apellido+\"\\n Edad:\\t\"+edad+\"\\n E-Mail:\\t\"+email, end='\\n')"
      ],
      "metadata": {
        "colab": {
          "base_uri": "https://localhost:8080/"
        },
        "id": "nOcrz1rIdHaF",
        "outputId": "b742f37f-bb38-4ef6-9f26-709e7c60a22f"
      },
      "execution_count": 2,
      "outputs": [
        {
          "output_type": "stream",
          "name": "stdout",
          "text": [
            "Hola, te solicitaré tus datos, empezamos \n",
            "Introduce tu nombre \n",
            "ERROR. No ha ingresado su nombre.\n",
            "Ahora introduce tu apellido nm\n",
            "Cual es tu edad?7\n",
            "Es menor de edad\n",
            "Y finalmente, tu correo electronico \n",
            "ERROR.No ha ingresado un e-mail valido\n",
            "Gracias!\n",
            "Datos Introducidos\n",
            " Nombre:\t   Apellido:\tnm\n",
            " Edad:\t7\n",
            " E-Mail:\t\n"
          ]
        }
      ]
    },
    {
      "cell_type": "code",
      "source": [],
      "metadata": {
        "id": "YoNHmSeNcMWA"
      },
      "execution_count": null,
      "outputs": []
    }
  ]
}