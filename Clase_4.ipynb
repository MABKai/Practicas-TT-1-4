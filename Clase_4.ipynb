{
  "nbformat": 4,
  "nbformat_minor": 0,
  "metadata": {
    "colab": {
      "provenance": []
    },
    "kernelspec": {
      "name": "python3",
      "display_name": "Python 3"
    },
    "language_info": {
      "name": "python"
    }
  },
  "cells": [
    {
      "cell_type": "code",
      "execution_count": null,
      "metadata": {
        "id": "hzrpQ0i5cDMI"
      },
      "outputs": [],
      "source": [
        "nombre=input(\"Hola, te solicitaré tus datos, empezamos \\nIntroduce tu nombre \")\n",
        "if (nombre)==\"\": #valido el ingreso de caracteres\n",
        "  print(\"ERROR. No ha ingresado su nombre.\")\n",
        "apellido=input(\"Ahora introduce tu apellido \")# ingreso y guardo  caracteres\n",
        "if (apellido)==\"\": #valido esta vex el ingreso de caracteres en apellido\n",
        "  print(\"ERROR. No ha ingrsaso su apellido\")\n",
        "edad=input(\"Cual es tu edad?\")\n",
        "if int(edad )<=0: #compruebo una edad valida\n",
        "  edad=input(\"ERROR. No ha ingresado una edad valida.\")\n",
        "else:\n",
        "  if int(edad) < 18 and int(edad) >0:#valido que sea mayor de edad\n",
        "    print(\"Es menor de edad\")\n",
        "email=input(\"Y finalmente, tu correo electronico \")\n",
        "if (email)==\"\":#valido que se haya ingresado caracteres en email\n",
        "        print(\"ERROR.No ha ingresado un e-mail valido\")\n",
        "print(\"Gracias!\", end='\\n')\n",
        "#muestro los datos ingreados\n",
        "print(\"Datos Introducidos\\n Nombre:\\t\"+nombre+\"   \"+\"Apellido:\\t\"+apellido+\"\\n Edad:\\t\"+edad+\"\\n E-Mail:\\t\"+email, end='\\n')"
      ]
    },
    {
      "cell_type": "code",
      "source": [
        "#ejercicio 1 clase 03\n",
        "\n",
        "nombre=input(\"Hola, te solicitaré tus datos, empezamos \\nIntroduce tu nombre \")\n",
        "if len(nombre)==0: #valido el ingreso de caracteres\n",
        "  print(\"ERROR. No ha ingresado su nombre.\")\n",
        "apellido=input(\"Ahora introduce tu apellido \")# ingreso y guardo  caracteres\n",
        "if len(apellido)==0: #valido esta vex el ingreso de caracteres en apellido\n",
        "  print(\"ERROR. No ha ingrsaso su apellido\")\n",
        "edad=input(\"Cual es tu edad?\")\n",
        "if int(edad )<=0: #compruebo una edad valida\n",
        "  edad=input(\"ERROR. No ha ingresado una edad valida.\")\n",
        "else:\n",
        "  if int(edad) < 18 and int(edad) >0:#valido que sea mayor de edad\n",
        "    print(\"Es menor de edad\")\n",
        "email=input(\"Y finalmente, tu correo electronico \")\n",
        "if len(email)==0:#valido que se haya ingresado caracteres en email\n",
        "        print(\"ERROR.No ha ingresado un e-mail valido\")\n",
        "print(\"Gracias!\", end='\\n')\n",
        "#muestro los datos ingreados\n",
        "print(\"Datos Introducidos\\n Nombre:\\t\"+nombre+\"   \"+\"Apellido:\\t\"+apellido+\"\\n Edad:\\t\"+edad+\"\\n E-Mail:\\t\"+email, end='\\n')"
      ],
      "metadata": {
        "id": "lmNSv8IqjfKT"
      },
      "execution_count": null,
      "outputs": []
    },
    {
      "cell_type": "code",
      "source": [
        "#ejercicio 1 clase 04\n",
        "\n",
        "nombre=input(\"Hola, te solicitaré tus datos, empezamos \\nIntroduce tu nombre \")\n",
        "if len(nombre)==0: #valido el ingreso de caracteres\n",
        "  print(\"ERROR. No ha ingresado su nombre.\")\n",
        "apellido=input(\"Ahora introduce tu apellido \")# ingreso y guardo  caracteres\n",
        "if len(apellido)==0: #valido esta vex el ingreso de caracteres en apellido\n",
        "  print(\"ERROR. No ha ingrsaso su apellido\")\n",
        "#Validacion y clasificsscion de la edad\n",
        "\n",
        "edad=input(\"Cual es tu edad? \")\n",
        "if int(edad )<=0: #compruebo una edad valida\n",
        "    edad=input(\"ERROR. No ha ingresado una edad valida.\")\n",
        "elif int(edad) > 18:\n",
        "    rango_etario= \"Adulto\"\n",
        "elif int(edad)<15:\n",
        "    rango_etario= \"Niño/a\"\n",
        "elif int(edad)>15 and int(edad) <18:\n",
        "    rango_etario= \"Adolescente\"\n",
        "#Validacion de Email\n",
        "email=input(\"Y finalmente, tu correo electronico \")\n",
        "if len(email)==0 or email.find(\"@\")==\"\":#valido que se haya ingresado caracteres en email\n",
        "   print(\"ERROR.No ha ingresado un e-mail valido\")\n",
        "print(\"Gracias!\", end='\\n')\n",
        "#muestro los datos ingreados\n",
        "# utilzo .strip() de quitar espacios al final y al principio\n",
        "# Utilizo .lower() para colocar en minusculas los caracteres ingresados\n",
        "# utilizo .title()para colocar en mayusculas las iniciales\n",
        "print(f\"Datos Introducidos\\n Nombre:\\t{nombre.lower().strip().title()}\\t Apellido:\\t {apellido.lower().strip().title()})\\n Edad:\\t{edad.strip()}\\n Rango Etario:\\t{rango_etario}\\n E-Mail:\\t{email.lower().strip()}\")\n",
        "\n"
      ],
      "metadata": {
        "colab": {
          "base_uri": "https://localhost:8080/"
        },
        "id": "JWElTvkPjmoM",
        "outputId": "15beed3a-dfd2-4d93-b9fe-d3a6063d5b7a"
      },
      "execution_count": 28,
      "outputs": [
        {
          "output_type": "stream",
          "name": "stdout",
          "text": [
            "Hola, te solicitaré tus datos, empezamos \n",
            "Introduce tu nombre klkj\n",
            "Ahora introduce tu apellido knl\n",
            "Cual es tu edad? 7\n",
            "Y finalmente, tu correo electronico nknj\n",
            "ERROR.No ha ingresado un e-mail valido\n",
            "Gracias!\n",
            "Datos Introducidos\n",
            " Nombre:\tKlkj\t Apellido:\t Knl)\n",
            " Edad:\t7\n",
            " Rango Etario:\tNiño/a\n",
            " E-Mail:\tnknj\n"
          ]
        }
      ]
    }
  ]
}
