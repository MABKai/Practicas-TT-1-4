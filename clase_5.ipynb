{
  "nbformat": 4,
  "nbformat_minor": 0,
  "metadata": {
    "colab": {
      "provenance": []
    },
    "kernelspec": {
      "name": "python3",
      "display_name": "Python 3"
    },
    "language_info": {
      "name": "python"
    }
  },
  "cells": [
    {
      "cell_type": "code",
      "execution_count": 16,
      "metadata": {
        "colab": {
          "base_uri": "https://localhost:8080/"
        },
        "id": "P0bCPo6dBVWb",
        "outputId": "5cdd7849-ac05-4105-a1a4-c30c5f321c94"
      },
      "outputs": [
        {
          "output_type": "stream",
          "name": "stdout",
          "text": [
            "Ingrese el monto del mes 34343\n",
            "Ingrese el monto del mes 34343\n",
            "Ingrese el monto del mes -4\n",
            "Por favor, ingrese el monto mensual 2323\n",
            "Ingrese el monto del mes 232323\n",
            "Ingrese el monto del mes 32323\n",
            "Ingrese el monto del mes 232323\n",
            "El ingreso total del semestre es de 567978.0.-\n"
          ]
        }
      ],
      "source": [
        "#Registros financieros semestral\n",
        "#ingreso  monto mensual\n",
        "#uso un bucle para que se repita el ingreso 6 veces\n",
        "i=1\n",
        "ingreso_mensual=0\n",
        "ingreso_total=0\n",
        "for i in range(6):\n",
        "  ingreso_mensual=float(input(\"Ingrese el monto del mes \"))\n",
        "  #validar monto positivo\n",
        "  while ingreso_mensual < 0:\n",
        "    ingreso_mensual=float(input(\"Por favor, ingrese el monto mensual \"))\n",
        "  ingreso_total=ingreso_total + ingreso_mensual\n",
        "\n",
        "print(f\"El ingreso total del semestre es de {ingreso_total}.-\")"
      ]
    }
  ]
}